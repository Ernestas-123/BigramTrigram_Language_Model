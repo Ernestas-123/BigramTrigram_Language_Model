{
 "cells": [
  {
   "cell_type": "markdown",
   "id": "e27f8879",
   "metadata": {},
   "source": [
    "### Samples at random without replacement lines from a .txt file"
   ]
  },
  {
   "cell_type": "code",
   "execution_count": 7,
   "id": "0ecdb722",
   "metadata": {},
   "outputs": [],
   "source": [
    "import random\n",
    "\n",
    "sample_percentage = 0.2\n",
    "\n",
    "def sample_lines(input_file, output_file, sample_percentage):\n",
    "    # Open file and store file object as variable name \"input_file\"\n",
    "    with open(input_file, \"r\") as input_file, open(output_file, \"w\") as output_file:\n",
    "        \n",
    "        total_lines = sum(1 for line in input_file)\n",
    "        \n",
    "        num_lines_to_sample = int(total_lines * (sample_percentage))\n",
    "        \n",
    "        # Reset file pointer to the beginning of the input file\n",
    "        input_file.seek(0)\n",
    "        \n",
    "        # Use reservoir sampling to select random lines\n",
    "        sampled_lines = []\n",
    "        \n",
    "        # Enumerate returns a tuple of the element and index number of an object\n",
    "        for line_num, line in enumerate(input_file, start=1):\n",
    "            if len(sampled_lines) < num_lines_to_sample:\n",
    "                sampled_lines.append(line)\n",
    "                \n",
    "            else:\n",
    "                replace_index = random.randint(0, line_num - 1)\n",
    "                if replace_index < num_lines_to_sample:\n",
    "                    sampled_lines[replace_index] = line\n",
    "                    \n",
    "        output_file.writelines(sampled_lines)\n",
    "                "
   ]
  },
  {
   "cell_type": "code",
   "execution_count": 8,
   "id": "452fa520",
   "metadata": {},
   "outputs": [],
   "source": [
    "sample_lines(\"sentences_long.txt\", \"test.txt\", 0.2)"
   ]
  }
 ],
 "metadata": {
  "kernelspec": {
   "display_name": "Python 3 (ipykernel)",
   "language": "python",
   "name": "python3"
  },
  "language_info": {
   "codemirror_mode": {
    "name": "ipython",
    "version": 3
   },
   "file_extension": ".py",
   "mimetype": "text/x-python",
   "name": "python",
   "nbconvert_exporter": "python",
   "pygments_lexer": "ipython3",
   "version": "3.11.5"
  }
 },
 "nbformat": 4,
 "nbformat_minor": 5
}
